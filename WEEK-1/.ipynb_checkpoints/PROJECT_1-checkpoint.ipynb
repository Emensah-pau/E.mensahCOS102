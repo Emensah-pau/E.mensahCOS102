{
 "cells": [
  {
   "cell_type": "code",
   "execution_count": 15,
   "metadata": {},
   "outputs": [],
   "source": [
    "def simple():\n",
    "  print(\"SIMPLE INTEREST\")\n",
    "  print(\" \")\n",
    "  print(\" \")\n",
    "  p = input(\"what is your principal: \")\n",
    "  print(p)\n",
    "  r = input(\"what is your rate: \")\n",
    "  print(r)\n",
    "  t = input(\"what is your time(in years): \")\n",
    "  print(t)\n",
    "  print('')\n",
    "  print('')\n",
    "  x = int(p) * int(r) * int(t)\n",
    "  print(x)\n",
    "  A = x/100\n",
    "  print(\"THE SIMPLE INTEREST IS: \",A)"
   ]
  },
  {
   "cell_type": "markdown",
   "metadata": {},
   "source": [
    "### "
   ]
  },
  {
   "cell_type": "code",
   "execution_count": 17,
   "metadata": {},
   "outputs": [],
   "source": [
    "def compound():\n",
    "  print(\"COMPOUND INTEREST\")\n",
    "  print(\" \")\n",
    "  print(\" \")\n",
    "  p = input(\"what is your principal: \")\n",
    "  print(p)\n",
    "  r = input(\"what is your rate: \")\n",
    "  print(r)\n",
    "  t = input(\"what is your time(in years): \")\n",
    "  print(t)\n",
    "  n = input(\"how many times is interest compounded a year: \")\n",
    "  print(n)\n",
    "  x = 1 + int(r)/int(n)\n",
    "  y = int(n) * int(t)\n",
    "  z = x ** y\n",
    "  A = int(p) * z\n",
    "  print(\" \")\n",
    "  print(\" \")\n",
    "  print(\"THE COMPOUND INTEREST IS: \",A)"
   ]
  },
  {
   "cell_type": "markdown",
   "metadata": {},
   "source": [
    "### "
   ]
  },
  {
   "cell_type": "code",
   "execution_count": 22,
   "metadata": {},
   "outputs": [],
   "source": [
    "def annuity():\n",
    "  print(\"ANNUITY INTEREST\")\n",
    "  print(\" \")\n",
    "  print(\" \")\n",
    "  p = input(\"what is your principal: \")\n",
    "  print(p)\n",
    "  r = input(\"what is your rate: \")\n",
    "  print(r)\n",
    "  t = input(\"what is your time(in years): \")\n",
    "  print(t)\n",
    "  n = input(\"how many times is interest compounded a year: \")\n",
    "  print(n)\n",
    "  d = input(\"What dollar amount of each annuity payment: \")\n",
    "  print(d)\n",
    "  x =1 + int(r)/int(n)\n",
    "  y = int(n) * int(t)\n",
    "  z = x ** y\n",
    "  sub = z - 1\n",
    "  div = int(r)/int(n)\n",
    "  over = sub/div\n",
    "  A = int(d) * over\n",
    "  print(' ')\n",
    "  print(\" \")\n",
    "  print(\"THE ANNUITY INTEREST IS: \",A)"
   ]
  },
  {
   "cell_type": "code",
   "execution_count": 29,
   "metadata": {},
   "outputs": [
    {
     "name": "stdout",
     "output_type": "stream",
     "text": [
      "ENTER 1 FOR SIMPLE INTEREST\n",
      "ENTER 2 FOR COMPOUND INTEREST\n",
      "ENTER 3 FOR ANNUITY INTEREST\n",
      "what do u want to solve: 3\n",
      " \n",
      " \n",
      "ANNUITY INTEREST\n",
      " \n",
      " \n",
      "what is your principal: 3\n",
      "3\n",
      "what is your rate: 3\n",
      "3\n",
      "what is your time(in years): 3\n",
      "3\n",
      "how many times is interest compounded a year: 3\n",
      "3\n",
      "What dollar amount of each annuity payment: 3\n",
      "3\n",
      " \n",
      " \n",
      "THE ANNUITY INTEREST IS:  1533.0\n"
     ]
    }
   ],
   "source": [
    "print(\"ENTER 1 FOR SIMPLE INTEREST\")\n",
    "print(\"ENTER 2 FOR COMPOUND INTEREST\")\n",
    "print(\"ENTER 3 FOR ANNUITY INTEREST\")\n",
    "ori = input(\"what do u want to solve: \")\n",
    "ori = int(ori)\n",
    "print(\" \")\n",
    "print(\" \")\n",
    "if ori == 1:\n",
    "  simple()\n",
    "elif ori == 2:\n",
    "    compound()\n",
    "elif ori == 3:\n",
    "    annuity()"
   ]
  },
  {
   "cell_type": "code",
   "execution_count": null,
   "metadata": {},
   "outputs": [],
   "source": []
  }
 ],
 "metadata": {
  "kernelspec": {
   "display_name": "Python 3",
   "language": "python",
   "name": "python3"
  },
  "language_info": {
   "codemirror_mode": {
    "name": "ipython",
    "version": 3
   },
   "file_extension": ".py",
   "mimetype": "text/x-python",
   "name": "python",
   "nbconvert_exporter": "python",
   "pygments_lexer": "ipython3",
   "version": "3.8.3"
  }
 },
 "nbformat": 4,
 "nbformat_minor": 4
}
