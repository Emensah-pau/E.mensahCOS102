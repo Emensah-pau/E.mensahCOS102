{
 "cells": [
  {
   "cell_type": "code",
   "execution_count": 5,
   "metadata": {},
   "outputs": [
    {
     "name": "stdout",
     "output_type": "stream",
     "text": [
      "WHAT DEPARTMENT DO YOU WANT TO CHECK FOR:\n",
      "ENTER I FOR COMPUTER SCIENCE:\n",
      "ENTER 2 FOR MASS COMMUNICATION:\n",
      "2\n",
      "\n",
      "\n",
      "FULL NAME: mensah kele\n",
      "JAMB SCORE: 260\n",
      "NUMBER OF CREDITS: 9\n",
      "DID YOU PASS THE INTERVIEW\n",
      "ENTER 1 FOR YES:\n",
      "ENTER 2 FOR NO:\n",
      "1\n",
      "\n",
      "\n",
      "Dear mensah kele, you have been accepted into the department of Mass communication, congratulations!!!\n",
      "NAME OF ACCEPTED CANDIDATE FOR MASS COMMUNICATION\n",
      "mensah kele\n",
      "IS THERE ANOTHER CANDIDATE: no\n",
      "!!!!!Thank you!!!!!\n"
     ]
    }
   ],
   "source": [
    "comp_admits = []\n",
    "comp_non_admits = []\n",
    "\n",
    "mass_admits = []\n",
    "mass_non_admits = []\n",
    "    \n",
    "turn=\"yes\"\n",
    "while turn==\"yes\":\n",
    "    department = int(input(\"WHAT DEPARTMENT DO YOU WANT TO CHECK FOR:\\n\" \"ENTER I FOR COMPUTER SCIENCE:\\n\" \"ENTER 2 FOR MASS COMMUNICATION:\\n\"))\n",
    "    print(\"\\n\")\n",
    "    \n",
    "    if department == 1:\n",
    "        name = input(\"FULL NAME: \")\n",
    "        jamb = int(input(\"JAMB SCORE: \"))\n",
    "        credit = int(input(\"NUMBER OF CREDITS: \"))\n",
    "        interview = int(input(\"DID YOU PASS THE INTERVIEW\\n\"\"ENTER 1 FOR YES:\\n\"\"ENTER 2 FOR NO:\\n\"))\n",
    "        print(\"\\n\")\n",
    "    \n",
    "        \n",
    "    \n",
    "        if jamb>= 250 and credit >= 5 and interview == 1:\n",
    "            print(f\"Dear {name}, you have been accepted into the department of Computer science, congratulations!!!\")\n",
    "            comp_admits.append(name)\n",
    "            print(\"NAME OF ACCEPTED CANDIDATE FOR COMPUTER SCIENCE\")\n",
    "            for show in comp_admits:\n",
    "                print(show)\n",
    "        else:\n",
    "            print(f\"Dear {name}, you did not reach the requirment there for you are not eligible for admission\")\n",
    "            comp_non_admits.append(name)\n",
    "            print(\"NAME OF REJECTED CANDIDATE FOR COMPUTER SCIENCE\")\n",
    "            for show in comp_non_admits:\n",
    "                print(show)\n",
    "            \n",
    "    elif department == 2:\n",
    "        name = input(\"FULL NAME: \")\n",
    "        jamb = int(input(\"JAMB SCORE: \"))\n",
    "        credit = int(input(\"NUMBER OF CREDITS: \"))\n",
    "        interview = int(input(\"DID YOU PASS THE INTERVIEW\\n\"\"ENTER 1 FOR YES:\\n\"\"ENTER 2 FOR NO:\\n\"))\n",
    "        print(\"\\n\")\n",
    "    \n",
    "      \n",
    "    \n",
    "        if jamb>= 230 and credit >= 5 and interview == 1:\n",
    "            print(f\"Dear {name}, you have been accepted into the department of Mass communication, congratulations!!!\")\n",
    "            mass_admits.append(name)\n",
    "            print(\"NAME OF ACCEPTED CANDIDATE FOR MASS COMMUNICATION\")        \n",
    "            for show in mass_admits:      \n",
    "                print(show)\n",
    "        else:\n",
    "            print(f\"Dear {name}, you did not reach the requirment there for you are not eligible for admission\")\n",
    "            mass_non_admits.append(name)\n",
    "            print(\"NAME OF REJECTED CANDIDATE FOR MASS COMMUNICATION\")\n",
    "            for show in mass_non_admits:\n",
    "                print(show)\n",
    "    else:\n",
    "        print(\"WRONG INPUT\")\\\n",
    "    \n",
    "    turn = input(\"IS THERE ANOTHER CANDIDATE: \").lower()\n",
    "        \n",
    "    if turn != \"yes\":\n",
    "        print(\"!!!!!Thank you!!!!!\")"
   ]
  },
  {
   "cell_type": "code",
   "execution_count": null,
   "metadata": {},
   "outputs": [],
   "source": []
  }
 ],
 "metadata": {
  "kernelspec": {
   "display_name": "Python 3",
   "language": "python",
   "name": "python3"
  },
  "language_info": {
   "codemirror_mode": {
    "name": "ipython",
    "version": 3
   },
   "file_extension": ".py",
   "mimetype": "text/x-python",
   "name": "python",
   "nbconvert_exporter": "python",
   "pygments_lexer": "ipython3",
   "version": "3.8.3"
  }
 },
 "nbformat": 4,
 "nbformat_minor": 4
}
