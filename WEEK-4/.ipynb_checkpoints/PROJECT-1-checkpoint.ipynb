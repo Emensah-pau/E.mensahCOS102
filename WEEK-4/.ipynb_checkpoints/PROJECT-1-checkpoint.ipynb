{
 "cells": [
  {
   "cell_type": "code",
   "execution_count": 47,
   "metadata": {},
   "outputs": [
    {
     "name": "stdout",
     "output_type": "stream",
     "text": [
      "*****GIRLS*****\n",
      "_NAMES_: ('AGE', 'HEIGHT', 'SCORES')\n",
      "EVELYN_: ('17_', '__5.5_', '__80__')\n",
      "JESSICA: ('16_', '__6.0_', '__85__')\n",
      "_SOMTO_: ('17_', '__5.4_', '__70__')\n",
      "_EDITH_: ('18_', '__5.9_', '__60__')\n",
      "__LIZA_: ('16_', '__5,6_', '__76__')\n",
      "MADONNA: ('18_', '__5.5_', '__66__')\n",
      "__WAJE_: ('17_', '__6.1_', '__87__')\n",
      "__TOLA_: ('20_', '__6.0_', '__95__')\n",
      "_AISHA_: ('19_', '__5.7_', '__50__')\n",
      "_LATIFA: ('17_', '__5.7_', '__49__')\n",
      "\n",
      "\n",
      "*****BOYS*****\n",
      "_NAMES_: ('AGE', 'HEIGHT', 'SCORES')\n",
      "CHINEDU: ('I9_', '__5.7_', '__74__')\n",
      "__LIAM_: ('16_', '__5.9_', '__87__')\n",
      "__WALE_: ('18_', '__5.8_', '__75__')\n",
      "GBENGA_: ('17_', '__6.1_', '__68__')\n",
      "ABIOLA_: ('20_', '__5.9_', '__66__')\n",
      "__KOLA_: ('19_', '__5.5_', '__78__')\n",
      "_KUNLE_: ('16_', '__6.1_', '__87__')\n",
      "GEORGE_: ('18_', '__5.4_', '__98__')\n",
      "THOMAS_: ('17_', '__5.8_', '__54__')\n",
      "WESLEY_: ('19_', '__5.7_', '__60__')\n"
     ]
    }
   ],
   "source": [
    "print(\"*****GIRLS*****\")\n",
    "girls = {'_NAMES_:': ('AGE',\"HEIGHT\",\"SCORES\"), 'EVELYN_:': ( \"17_\",\"__5.5_\",\"__80__\"), 'JESSICA:': (\"16_\",\"__6.0_\",\"__85__\"), '_SOMTO_:':(\"17_\",'__5.4_',\"__70__\"), '_EDITH_:': (\"18_\",\"__5.9_\",\"__60__\"), '__LIZA_:': ('16_',\"__5,6_\",\"__76__\"), \"MADONNA:\": (\"18_\",\"__5.5_\",\"__66__\"), '__WAJE_:': (\"17_\",\"__6.1_\",\"__87__\"), '__TOLA_:': (\"20_\",\"__6.0_\",\"__95__\"), '_AISHA_:': (\"19_\",\"__5.7_\",\"__50__\"), '_LATIFA:': (\"17_\",\"__5.7_\",\"__49__\")}\n",
    "\n",
    "for i in girls:\n",
    "    print(i,girls[i])\n",
    "    \n",
    "print(\"\\n\")\n",
    "print(\"*****BOYS*****\")\n",
    "boys =  {'_NAMES_:': ('AGE',\"HEIGHT\",\"SCORES\"), 'CHINEDU:': (\"I9_\",\"__5.7_\",\"__74__\"), '__LIAM_:': ('16_','__5.9_',\"__87__\"), '__WALE_:': ('18_',\"__5.8_\",\"__75__\"), 'GBENGA_:': ('17_','__6.1_','__68__'), 'ABIOLA_:': ('20_','__5.9_',\"__66__\"), '__KOLA_:': ('19_',\"__5.5_\",\"__78__\"), '_KUNLE_:': ('16_','__6.1_',\"__87__\"), 'GEORGE_:': (\"18_\",\"__5.4_\",'__98__'), 'THOMAS_:': (\"17_\",'__5.8_','__54__'), 'WESLEY_:': ('19_',\"__5.7_\",'__60__')}\n",
    "\n",
    "for i in boys:\n",
    "    print(i,boys[i])"
   ]
  },
  {
   "cell_type": "code",
   "execution_count": null,
   "metadata": {},
   "outputs": [],
   "source": []
  }
 ],
 "metadata": {
  "kernelspec": {
   "display_name": "Python 3",
   "language": "python",
   "name": "python3"
  },
  "language_info": {
   "codemirror_mode": {
    "name": "ipython",
    "version": 3
   },
   "file_extension": ".py",
   "mimetype": "text/x-python",
   "name": "python",
   "nbconvert_exporter": "python",
   "pygments_lexer": "ipython3",
   "version": "3.8.3"
  }
 },
 "nbformat": 4,
 "nbformat_minor": 4
}
