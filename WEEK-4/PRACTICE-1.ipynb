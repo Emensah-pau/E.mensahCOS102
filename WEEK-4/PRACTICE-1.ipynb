{
 "cells": [
  {
   "cell_type": "code",
   "execution_count": 1,
   "metadata": {},
   "outputs": [
    {
     "name": "stdout",
     "output_type": "stream",
     "text": [
      "enter name of city 1: cut\n",
      "enter name of city 2: gut\n",
      "The name of city 1 after swapping is gut\n",
      "The name of city 2 after swapping is cut\n"
     ]
    }
   ],
   "source": [
    "city_1 = input('enter name of city 1: ')\n",
    "city_2 = input('enter name of city 2: ')\n",
    "\n",
    "temp=city_1\n",
    "city_1=city_2\n",
    "city_2=temp\n",
    "\n",
    "print(f\"The name of city 1 after swapping is {city_1}\")\n",
    "print(f\"The name of city 2 after swapping is {city_2}\")"
   ]
  },
  {
   "cell_type": "code",
   "execution_count": null,
   "metadata": {},
   "outputs": [],
   "source": []
  }
 ],
 "metadata": {
  "kernelspec": {
   "display_name": "Python 3",
   "language": "python",
   "name": "python3"
  },
  "language_info": {
   "codemirror_mode": {
    "name": "ipython",
    "version": 3
   },
   "file_extension": ".py",
   "mimetype": "text/x-python",
   "name": "python",
   "nbconvert_exporter": "python",
   "pygments_lexer": "ipython3",
   "version": "3.8.3"
  }
 },
 "nbformat": 4,
 "nbformat_minor": 4
}
