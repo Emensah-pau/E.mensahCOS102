{
 "cells": [
  {
   "cell_type": "code",
   "execution_count": 11,
   "metadata": {},
   "outputs": [
    {
     "name": "stdout",
     "output_type": "stream",
     "text": [
      "Welcome to IZIFIN TECHNOLOGY: Annual Tax Revenue (ATR)\n",
      "\n",
      "HOW MANY YEARS OF EXPERIENCE DO U HAVE (In years): \n",
      "10\n",
      "HOW OLD ARE YOU: 35\n",
      "Your Annual Tax Revenue is N1,500,000.00\n"
     ]
    }
   ],
   "source": [
    "print(\"Welcome to IZIFIN TECHNOLOGY: Annual Tax Revenue (ATR)\\n\")\n",
    "\n",
    "exp = int(input(\"HOW MANY YEARS OF EXPERIENCE DO U HAVE (In years): \\n\"))\n",
    "age = int(input(\"HOW OLD ARE YOU: \"))\n",
    "\n",
    "if exp >= 25 and age >= 55:\n",
    "    print(\"Your Annual Tax Revenue is N5,600,000.00\")\n",
    "elif exp >= 20 and age >= 45:\n",
    "    print(\"Your Annual Tax Revenue is N4,480,000.00\")\n",
    "elif exp >= 10 and age >= 35:\n",
    "    print(\"Your Annual Tax Revenue is N1,500,000.00\")\n",
    "elif exp < 10 and age < 35:\n",
    "    print(\"Your Annual Tax Revenue is N550,000.00\")\n"
   ]
  }
 ],
 "metadata": {
  "kernelspec": {
   "display_name": "Python 3",
   "language": "python",
   "name": "python3"
  },
  "language_info": {
   "codemirror_mode": {
    "name": "ipython",
    "version": 3
   },
   "file_extension": ".py",
   "mimetype": "text/x-python",
   "name": "python",
   "nbconvert_exporter": "python",
   "pygments_lexer": "ipython3",
   "version": "3.8.3"
  }
 },
 "nbformat": 4,
 "nbformat_minor": 4
}
