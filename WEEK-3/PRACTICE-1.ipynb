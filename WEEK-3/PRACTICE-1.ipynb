{
 "cells": [
  {
   "cell_type": "code",
   "execution_count": 1,
   "metadata": {},
   "outputs": [
    {
     "name": "stdout",
     "output_type": "stream",
     "text": [
      "enter ur state of origin: lagos\n",
      "YOUR STATE OF ORIGON IS:  lagos\n",
      "the first character is:  l\n",
      "the character starting from 3rd to 5th are:  gos\n",
      "the string starting from the third character is:  gos\n",
      "state of origin two times lagoslagos\n"
     ]
    }
   ],
   "source": [
    "str = input(\"enter ur state of origin: \")\n",
    "\n",
    "print(\"YOUR STATE OF ORIGON IS: \",str)\n",
    "print(\"the first character is: \",str[0])\n",
    "print(\"the character starting from 3rd to 5th are: \",str[2:5])\n",
    "print(\"the string starting from the third character is: \",str[2:])\n",
    "print(\"state of origin two times\",str * 2)"
   ]
  },
  {
   "cell_type": "code",
   "execution_count": null,
   "metadata": {},
   "outputs": [],
   "source": []
  }
 ],
 "metadata": {
  "kernelspec": {
   "display_name": "Python 3",
   "language": "python",
   "name": "python3"
  },
  "language_info": {
   "codemirror_mode": {
    "name": "ipython",
    "version": 3
   },
   "file_extension": ".py",
   "mimetype": "text/x-python",
   "name": "python",
   "nbconvert_exporter": "python",
   "pygments_lexer": "ipython3",
   "version": "3.8.3"
  }
 },
 "nbformat": 4,
 "nbformat_minor": 4
}
