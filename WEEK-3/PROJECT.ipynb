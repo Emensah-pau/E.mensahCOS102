{
 "cells": [
  {
   "cell_type": "code",
   "execution_count": null,
   "metadata": {},
   "outputs": [],
   "source": [
    "def quard():\n",
    "    A = int(input(\"Enter A\"))\n",
    "    B = int(input(\"Enter B\"))\n",
    "    C = int(input(\"Enter C\"))\n",
    "    X1 = ((-B) + (((B**2) - (4*A*C))**0.5))/ (2*A*C)\n",
    "    X2 = ((-B) - (((B**2) - (4*A*C))**0.5))/ (2*A*C)\n",
    "    print(\"The first root, X1 is:\",X1)\n",
    "    print(\"The first root, X1 is:\",X2)"
   ]
  },
  {
   "cell_type": "code",
   "execution_count": null,
   "metadata": {},
   "outputs": [],
   "source": [
    "def cube():\n",
    "    A == int(input(\"Enter A\"))\n",
    "    B == int(input(\"Enter B\"))\n",
    "    C == int(input(\"Enter C\"))\n",
    "    D == int(input(\"Enter D\"))\n",
    "    for X in range(-100,100):\n",
    "        E = (A * (X**3)) + (B * (X**2)) + (C*X) + D\n",
    "        if E == 0:\n",
    "            print(\"A root and the value of the equation is:\",X,E)"
   ]
  },
  {
   "cell_type": "code",
   "execution_count": null,
   "metadata": {},
   "outputs": [],
   "source": [
    "def quart():\n",
    "    "
   ]
  },
  {
   "cell_type": "code",
   "execution_count": null,
   "metadata": {},
   "outputs": [],
   "source": [
    "print(\"ENTER 1 FOR QUADRATIC EQUATION\")\n",
    "print(\"ENTER 2 FOR CUBIC EQUATION\")\n",
    "print(\"ENTER 3 FOR QUARTIC EQUATION\")\n",
    "operation=input(\"WHAT OPERATION DO U WANT TP PERFORM\")\n",
    "print(operation)\n",
    "\n",
    "if operation == 1:\n",
    "    quard()\n",
    "if operation == 2:\n",
    "    cube()\n",
    "if operation == 3:\n",
    "    quart()\n"
   ]
  }
 ],
 "metadata": {
  "kernelspec": {
   "display_name": "Python 3",
   "language": "python",
   "name": "python3"
  },
  "language_info": {
   "codemirror_mode": {
    "name": "ipython",
    "version": 3
   },
   "file_extension": ".py",
   "mimetype": "text/x-python",
   "name": "python",
   "nbconvert_exporter": "python",
   "pygments_lexer": "ipython3",
   "version": "3.8.3"
  }
 },
 "nbformat": 4,
 "nbformat_minor": 4
}
