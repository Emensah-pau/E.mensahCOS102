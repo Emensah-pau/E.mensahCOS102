{
 "cells": [
  {
   "cell_type": "code",
   "execution_count": 1,
   "metadata": {},
   "outputs": [
    {
     "name": "stderr",
     "output_type": "stream",
     "text": [
      "Exception in Tkinter callback\n",
      "Traceback (most recent call last):\n",
      "  File \"C:\\ProgramData\\Anaconda3\\lib\\tkinter\\__init__.py\", line 1883, in __call__\n",
      "    return self.func(*args)\n",
      "  File \"<ipython-input-1-690c7b81d37a>\", line 22, in submit\n",
      "    welcomemessage(username)\n",
      "  File \"<ipython-input-1-690c7b81d37a>\", line 12, in welcomemessage\n",
      "    label_2=th.Label(window,text=\"This is python GUI with tkinter\")\n",
      "NameError: name 'th' is not defined\n"
     ]
    }
   ],
   "source": [
    "import tkinter as tk\n",
    "from tkinter import messagebox\n",
    "from PIL import Image\n",
    "\n",
    "def welcomemessage(username):\n",
    "    window=tk.Toplevel(root)\n",
    "    window.title(\"Admin box\")\n",
    "    window.geometry(\"900x600\")\n",
    "    \n",
    "    label_1=tk.Label(window,text=f\"Welcome {username}\\n\")\n",
    "    label_1.pack()\n",
    "    label_2=th.Label(window,text=\"This is python GUI with tkinter\")\n",
    "    lebel_2.pack()\n",
    "    \n",
    "    root,mainloop()\n",
    "    \n",
    "def submit():\n",
    "    username= username_entry.get()\n",
    "    password= password_entry.get()\n",
    "    \n",
    "    if username == \"Mary\" and password == \"cos102\":\n",
    "        welcomemessage(username)\n",
    "    else:\n",
    "        messagebox.showerror(\"Login\",\"invalid username or password\")\n",
    "root = tk.Tk()\n",
    "root.title(\"Login form\")\n",
    "root.geometry(\"700x400\")\n",
    "\n",
    "username_label = tk.Label(root,text=\"Username:\")\n",
    "username_label.pack()\n",
    "username_entry = tk.Entry(root)\n",
    "username_entry.pack()\n",
    "\n",
    "password_label = tk.Label(root,text=\"Password\")\n",
    "password_label.pack()\n",
    "password_entry = tk.Entry(root,show=\"*\")\n",
    "password_entry.pack()\n",
    "\n",
    "submit_button = tk.Button(root,text=\"Submit\",command=submit)\n",
    "submit_button.pack()\n",
    "\n",
    "root.mainloop()"
   ]
  },
  {
   "cell_type": "code",
   "execution_count": null,
   "metadata": {},
   "outputs": [],
   "source": []
  }
 ],
 "metadata": {
  "kernelspec": {
   "display_name": "Python 3",
   "language": "python",
   "name": "python3"
  },
  "language_info": {
   "codemirror_mode": {
    "name": "ipython",
    "version": 3
   },
   "file_extension": ".py",
   "mimetype": "text/x-python",
   "name": "python",
   "nbconvert_exporter": "python",
   "pygments_lexer": "ipython3",
   "version": "3.8.3"
  }
 },
 "nbformat": 4,
 "nbformat_minor": 4
}
