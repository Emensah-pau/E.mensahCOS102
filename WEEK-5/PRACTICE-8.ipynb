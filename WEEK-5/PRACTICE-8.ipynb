{
 "cells": [
  {
   "cell_type": "code",
   "execution_count": 1,
   "metadata": {},
   "outputs": [
    {
     "name": "stdout",
     "output_type": "stream",
     "text": [
      "output is: \n",
      "10\n",
      "output is: \n",
      "70\n",
      "80\n"
     ]
    }
   ],
   "source": [
    "def printinfo(arg1,*vartuple):\n",
    "    print(\"output is: \");\n",
    "    print(arg1)\n",
    "    for var in vartuple:\n",
    "        print(var);\n",
    "        return;\n",
    "printinfo(10);\n",
    "printinfo(70,80,90)"
   ]
  },
  {
   "cell_type": "code",
   "execution_count": null,
   "metadata": {},
   "outputs": [],
   "source": []
  }
 ],
 "metadata": {
  "kernelspec": {
   "display_name": "Python 3",
   "language": "python",
   "name": "python3"
  },
  "language_info": {
   "codemirror_mode": {
    "name": "ipython",
    "version": 3
   },
   "file_extension": ".py",
   "mimetype": "text/x-python",
   "name": "python",
   "nbconvert_exporter": "python",
   "pygments_lexer": "ipython3",
   "version": "3.8.3"
  }
 },
 "nbformat": 4,
 "nbformat_minor": 4
}
