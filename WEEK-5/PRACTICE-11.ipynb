{
 "cells": [
  {
   "cell_type": "code",
   "execution_count": 2,
   "metadata": {},
   "outputs": [
    {
     "name": "stderr",
     "output_type": "stream",
     "text": [
      "Exception in Tkinter callback\n",
      "Traceback (most recent call last):\n",
      "  File \"C:\\ProgramData\\Anaconda3\\lib\\tkinter\\__init__.py\", line 1883, in __call__\n",
      "    return self.func(*args)\n",
      "  File \"<ipython-input-2-731ee6c7304b>\", line 4, in button_click\n",
      "    msgbox.showinfo(\"Info\",\"Welcome to COS 102 GUI APP!\\n\")\n",
      "NameError: name 'msgbox' is not defined\n",
      "Exception in Tkinter callback\n",
      "Traceback (most recent call last):\n",
      "  File \"C:\\ProgramData\\Anaconda3\\lib\\tkinter\\__init__.py\", line 1883, in __call__\n",
      "    return self.func(*args)\n",
      "  File \"<ipython-input-2-731ee6c7304b>\", line 4, in button_click\n",
      "    msgbox.showinfo(\"Info\",\"Welcome to COS 102 GUI APP!\\n\")\n",
      "NameError: name 'msgbox' is not defined\n"
     ]
    }
   ],
   "source": [
    "import tkinter as tk\n",
    "\n",
    "def button_click():\n",
    "    msgbox.showinfo(\"Info\",\"Welcome to COS 102 GUI APP!\\n\")\n",
    "    \n",
    "    result=msgbox.askyesno(\"Confirmation\", \"Do you want to continue?\")\n",
    "    \n",
    "root=tk.Tk()\n",
    "root.title(\"Home page\")\n",
    "root.geometry(\"300x100\")\n",
    "\n",
    "label=tk.Label(root,text=\"Hello friends\\n\")\n",
    "label.pack()\n",
    "\n",
    "button=tk.Button(root,text=\"Click me!!!\", command=button_click)\n",
    "button.pack()\n",
    "\n",
    "button.config(fg=\"red\",bg=\"yellow\")\n",
    "\n",
    "root.mainloop()"
   ]
  },
  {
   "cell_type": "code",
   "execution_count": null,
   "metadata": {},
   "outputs": [],
   "source": []
  },
  {
   "cell_type": "code",
   "execution_count": null,
   "metadata": {},
   "outputs": [],
   "source": []
  }
 ],
 "metadata": {
  "kernelspec": {
   "display_name": "Python 3",
   "language": "python",
   "name": "python3"
  },
  "language_info": {
   "codemirror_mode": {
    "name": "ipython",
    "version": 3
   },
   "file_extension": ".py",
   "mimetype": "text/x-python",
   "name": "python",
   "nbconvert_exporter": "python",
   "pygments_lexer": "ipython3",
   "version": "3.8.3"
  }
 },
 "nbformat": 4,
 "nbformat_minor": 4
}
