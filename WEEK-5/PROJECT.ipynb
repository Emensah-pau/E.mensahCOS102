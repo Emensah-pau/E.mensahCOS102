{
 "cells": [
  {
   "cell_type": "code",
   "execution_count": 25,
   "metadata": {},
   "outputs": [],
   "source": [
    "import tkinter as tk\n",
    "from tkinter import messagebox\n",
    "from PIL import Image \n",
    "import pandas as pd\n",
    "\n",
    "def welcome(name1,name2,department,file):\n",
    "    window = tk.Toplevel(root)\n",
    "    window.geometry(\"500x500\")\n",
    "    label_1=tk.Label(window,text=f\"Members of {department} department\")\n",
    "    label_1.pack()\n",
    "    label_1.configure(bg=\"white\")\n",
    "    \n",
    "    department_members=file.loc[(file.DEPARTMENT.str.lower()==department)]\n",
    "    department_members = department_members.values.tolist()\n",
    "    \n",
    "    for member in department_members:\n",
    "        label_2=tk.Label(window,text=f\"{member[1].upper()} {member[2].upper()}\\n\")\n",
    "        label_2.pack()\n",
    "        label_2.configure(bg=\"grey\")\n",
    "\n",
    "\n",
    "\n",
    "def submit():\n",
    "    file= pd.read_csv(\"GIG-logistics.csv\")\n",
    "    \n",
    "    name1= name1_entry.get().lower()\n",
    "    name2= name2_entry.get().lower()\n",
    "    department= department_entry.get().lower()\n",
    "    \n",
    "    \n",
    "    if not file.loc[(file.SURNAME.str.lower()==name1)&\n",
    "                    (file[\"FIRST NAME\"].str.lower()==name2)&\n",
    "                    (file.DEPARTMENT.str.lower()==department)].empty:\n",
    "        welcome(name1,name2,department,file)\n",
    "        \n",
    "    else:\n",
    "        messagebox.showerror(\"SORRY\",\"INCORRECT NAME OR PASSWORD\")\n",
    "\n",
    "   \n",
    "root = tk.Tk()\n",
    "root.title(\"Login form\")\n",
    "root.geometry(\"700x400\")\n",
    "\n",
    "name1_label = tk.Label(root,text=\"Surname:\")\n",
    "name1_label.pack()\n",
    "name1_entry = tk.Entry(root)\n",
    "name1_entry.pack()\n",
    "\n",
    "name2_label = tk.Label(root,text=\"First name:\")\n",
    "name2_label.pack()\n",
    "name2_entry = tk.Entry(root)\n",
    "name2_entry.pack()\n",
    "\n",
    "department_label = tk.Label(root,text=\"Department\")\n",
    "department_label.pack()\n",
    "department_entry = tk.Entry(root)\n",
    "department_entry.pack()\n",
    "\n",
    "submit_button = tk.Button(root,text=\"Submit\",command=submit)\n",
    "submit_button.pack()\n",
    "\n",
    "root.mainloop()"
   ]
  },
  {
   "cell_type": "code",
   "execution_count": null,
   "metadata": {},
   "outputs": [],
   "source": []
  },
  {
   "cell_type": "code",
   "execution_count": null,
   "metadata": {},
   "outputs": [],
   "source": []
  }
 ],
 "metadata": {
  "kernelspec": {
   "display_name": "Python 3",
   "language": "python",
   "name": "python3"
  },
  "language_info": {
   "codemirror_mode": {
    "name": "ipython",
    "version": 3
   },
   "file_extension": ".py",
   "mimetype": "text/x-python",
   "name": "python",
   "nbconvert_exporter": "python",
   "pygments_lexer": "ipython3",
   "version": "3.8.3"
  }
 },
 "nbformat": 4,
 "nbformat_minor": 4
}
